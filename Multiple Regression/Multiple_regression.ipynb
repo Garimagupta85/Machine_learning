{
 "cells": [
  {
   "cell_type": "markdown",
   "metadata": {},
   "source": [
    "# MULTIPLE REGRESSION"
   ]
  },
  {
   "cell_type": "code",
   "execution_count": 40,
   "metadata": {},
   "outputs": [],
   "source": [
    "import pandas as pd \n",
    "import numpy as np "
   ]
  },
  {
   "cell_type": "code",
   "execution_count": 16,
   "metadata": {},
   "outputs": [],
   "source": [
    "data = pd.read_csv(\"Iris.csv\")"
   ]
  },
  {
   "cell_type": "code",
   "execution_count": 17,
   "metadata": {},
   "outputs": [
    {
     "data": {
      "text/html": [
       "<div>\n",
       "<style scoped>\n",
       "    .dataframe tbody tr th:only-of-type {\n",
       "        vertical-align: middle;\n",
       "    }\n",
       "\n",
       "    .dataframe tbody tr th {\n",
       "        vertical-align: top;\n",
       "    }\n",
       "\n",
       "    .dataframe thead th {\n",
       "        text-align: right;\n",
       "    }\n",
       "</style>\n",
       "<table border=\"1\" class=\"dataframe\">\n",
       "  <thead>\n",
       "    <tr style=\"text-align: right;\">\n",
       "      <th></th>\n",
       "      <th>Id</th>\n",
       "      <th>SepalLengthCm</th>\n",
       "      <th>SepalWidthCm</th>\n",
       "      <th>PetalLengthCm</th>\n",
       "      <th>PetalWidthCm</th>\n",
       "      <th>Species</th>\n",
       "    </tr>\n",
       "  </thead>\n",
       "  <tbody>\n",
       "    <tr>\n",
       "      <th>0</th>\n",
       "      <td>1</td>\n",
       "      <td>5.1</td>\n",
       "      <td>3.5</td>\n",
       "      <td>1.4</td>\n",
       "      <td>0.2</td>\n",
       "      <td>Iris-setosa</td>\n",
       "    </tr>\n",
       "    <tr>\n",
       "      <th>1</th>\n",
       "      <td>2</td>\n",
       "      <td>4.9</td>\n",
       "      <td>3.0</td>\n",
       "      <td>1.4</td>\n",
       "      <td>0.2</td>\n",
       "      <td>Iris-setosa</td>\n",
       "    </tr>\n",
       "    <tr>\n",
       "      <th>2</th>\n",
       "      <td>3</td>\n",
       "      <td>4.7</td>\n",
       "      <td>3.2</td>\n",
       "      <td>1.3</td>\n",
       "      <td>0.2</td>\n",
       "      <td>Iris-setosa</td>\n",
       "    </tr>\n",
       "    <tr>\n",
       "      <th>3</th>\n",
       "      <td>4</td>\n",
       "      <td>4.6</td>\n",
       "      <td>3.1</td>\n",
       "      <td>1.5</td>\n",
       "      <td>0.2</td>\n",
       "      <td>Iris-setosa</td>\n",
       "    </tr>\n",
       "    <tr>\n",
       "      <th>4</th>\n",
       "      <td>5</td>\n",
       "      <td>5.0</td>\n",
       "      <td>3.6</td>\n",
       "      <td>1.4</td>\n",
       "      <td>0.2</td>\n",
       "      <td>Iris-setosa</td>\n",
       "    </tr>\n",
       "  </tbody>\n",
       "</table>\n",
       "</div>"
      ],
      "text/plain": [
       "   Id  SepalLengthCm  SepalWidthCm  PetalLengthCm  PetalWidthCm      Species\n",
       "0   1            5.1           3.5            1.4           0.2  Iris-setosa\n",
       "1   2            4.9           3.0            1.4           0.2  Iris-setosa\n",
       "2   3            4.7           3.2            1.3           0.2  Iris-setosa\n",
       "3   4            4.6           3.1            1.5           0.2  Iris-setosa\n",
       "4   5            5.0           3.6            1.4           0.2  Iris-setosa"
      ]
     },
     "execution_count": 17,
     "metadata": {},
     "output_type": "execute_result"
    }
   ],
   "source": [
    "data.head()"
   ]
  },
  {
   "cell_type": "code",
   "execution_count": 31,
   "metadata": {},
   "outputs": [],
   "source": [
    "X = data.iloc[:,1:4]\n",
    "ones = np.ones([X.shape[0],1])\n",
    "X = np.concatenate((ones,X),axis = 1)\n",
    "df = pd.DataFrame(data=data, columns=['y', 'dummy', 'x'])\n",
    "just_dummies = pd.get_dummies(df['dummy'])\n",
    "#dummies = pd.get_dummies(df['Iris-setosa'])"
   ]
  },
  {
   "cell_type": "code",
   "execution_count": 19,
   "metadata": {},
   "outputs": [],
   "source": [
    "Y = data.iloc[:,2:3].values"
   ]
  },
  {
   "cell_type": "code",
   "execution_count": 33,
   "metadata": {},
   "outputs": [],
   "source": [
    "W = np.zeros([1,4])"
   ]
  },
  {
   "cell_type": "code",
   "execution_count": 32,
   "metadata": {},
   "outputs": [
    {
     "name": "stdout",
     "output_type": "stream",
     "text": [
      "[[1.  5.1 3.5 1.4]\n",
      " [1.  4.9 3.  1.4]\n",
      " [1.  4.7 3.2 1.3]\n",
      " [1.  4.6 3.1 1.5]\n",
      " [1.  5.  3.6 1.4]\n",
      " [1.  5.4 3.9 1.7]\n",
      " [1.  4.6 3.4 1.4]\n",
      " [1.  5.  3.4 1.5]\n",
      " [1.  4.4 2.9 1.4]\n",
      " [1.  4.9 3.1 1.5]\n",
      " [1.  5.4 3.7 1.5]\n",
      " [1.  4.8 3.4 1.6]\n",
      " [1.  4.8 3.  1.4]\n",
      " [1.  4.3 3.  1.1]\n",
      " [1.  5.8 4.  1.2]\n",
      " [1.  5.7 4.4 1.5]\n",
      " [1.  5.4 3.9 1.3]\n",
      " [1.  5.1 3.5 1.4]\n",
      " [1.  5.7 3.8 1.7]\n",
      " [1.  5.1 3.8 1.5]\n",
      " [1.  5.4 3.4 1.7]\n",
      " [1.  5.1 3.7 1.5]\n",
      " [1.  4.6 3.6 1. ]\n",
      " [1.  5.1 3.3 1.7]\n",
      " [1.  4.8 3.4 1.9]\n",
      " [1.  5.  3.  1.6]\n",
      " [1.  5.  3.4 1.6]\n",
      " [1.  5.2 3.5 1.5]\n",
      " [1.  5.2 3.4 1.4]\n",
      " [1.  4.7 3.2 1.6]\n",
      " [1.  4.8 3.1 1.6]\n",
      " [1.  5.4 3.4 1.5]\n",
      " [1.  5.2 4.1 1.5]\n",
      " [1.  5.5 4.2 1.4]\n",
      " [1.  4.9 3.1 1.5]\n",
      " [1.  5.  3.2 1.2]\n",
      " [1.  5.5 3.5 1.3]\n",
      " [1.  4.9 3.1 1.5]\n",
      " [1.  4.4 3.  1.3]\n",
      " [1.  5.1 3.4 1.5]\n",
      " [1.  5.  3.5 1.3]\n",
      " [1.  4.5 2.3 1.3]\n",
      " [1.  4.4 3.2 1.3]\n",
      " [1.  5.  3.5 1.6]\n",
      " [1.  5.1 3.8 1.9]\n",
      " [1.  4.8 3.  1.4]\n",
      " [1.  5.1 3.8 1.6]\n",
      " [1.  4.6 3.2 1.4]\n",
      " [1.  5.3 3.7 1.5]\n",
      " [1.  5.  3.3 1.4]\n",
      " [1.  7.  3.2 4.7]\n",
      " [1.  6.4 3.2 4.5]\n",
      " [1.  6.9 3.1 4.9]\n",
      " [1.  5.5 2.3 4. ]\n",
      " [1.  6.5 2.8 4.6]\n",
      " [1.  5.7 2.8 4.5]\n",
      " [1.  6.3 3.3 4.7]\n",
      " [1.  4.9 2.4 3.3]\n",
      " [1.  6.6 2.9 4.6]\n",
      " [1.  5.2 2.7 3.9]\n",
      " [1.  5.  2.  3.5]\n",
      " [1.  5.9 3.  4.2]\n",
      " [1.  6.  2.2 4. ]\n",
      " [1.  6.1 2.9 4.7]\n",
      " [1.  5.6 2.9 3.6]\n",
      " [1.  6.7 3.1 4.4]\n",
      " [1.  5.6 3.  4.5]\n",
      " [1.  5.8 2.7 4.1]\n",
      " [1.  6.2 2.2 4.5]\n",
      " [1.  5.6 2.5 3.9]\n",
      " [1.  5.9 3.2 4.8]\n",
      " [1.  6.1 2.8 4. ]\n",
      " [1.  6.3 2.5 4.9]\n",
      " [1.  6.1 2.8 4.7]\n",
      " [1.  6.4 2.9 4.3]\n",
      " [1.  6.6 3.  4.4]\n",
      " [1.  6.8 2.8 4.8]\n",
      " [1.  6.7 3.  5. ]\n",
      " [1.  6.  2.9 4.5]\n",
      " [1.  5.7 2.6 3.5]\n",
      " [1.  5.5 2.4 3.8]\n",
      " [1.  5.5 2.4 3.7]\n",
      " [1.  5.8 2.7 3.9]\n",
      " [1.  6.  2.7 5.1]\n",
      " [1.  5.4 3.  4.5]\n",
      " [1.  6.  3.4 4.5]\n",
      " [1.  6.7 3.1 4.7]\n",
      " [1.  6.3 2.3 4.4]\n",
      " [1.  5.6 3.  4.1]\n",
      " [1.  5.5 2.5 4. ]\n",
      " [1.  5.5 2.6 4.4]\n",
      " [1.  6.1 3.  4.6]\n",
      " [1.  5.8 2.6 4. ]\n",
      " [1.  5.  2.3 3.3]\n",
      " [1.  5.6 2.7 4.2]\n",
      " [1.  5.7 3.  4.2]\n",
      " [1.  5.7 2.9 4.2]\n",
      " [1.  6.2 2.9 4.3]\n",
      " [1.  5.1 2.5 3. ]\n",
      " [1.  5.7 2.8 4.1]\n",
      " [1.  6.3 3.3 6. ]\n",
      " [1.  5.8 2.7 5.1]\n",
      " [1.  7.1 3.  5.9]\n",
      " [1.  6.3 2.9 5.6]\n",
      " [1.  6.5 3.  5.8]\n",
      " [1.  7.6 3.  6.6]\n",
      " [1.  4.9 2.5 4.5]\n",
      " [1.  7.3 2.9 6.3]\n",
      " [1.  6.7 2.5 5.8]\n",
      " [1.  7.2 3.6 6.1]\n",
      " [1.  6.5 3.2 5.1]\n",
      " [1.  6.4 2.7 5.3]\n",
      " [1.  6.8 3.  5.5]\n",
      " [1.  5.7 2.5 5. ]\n",
      " [1.  5.8 2.8 5.1]\n",
      " [1.  6.4 3.2 5.3]\n",
      " [1.  6.5 3.  5.5]\n",
      " [1.  7.7 3.8 6.7]\n",
      " [1.  7.7 2.6 6.9]\n",
      " [1.  6.  2.2 5. ]\n",
      " [1.  6.9 3.2 5.7]\n",
      " [1.  5.6 2.8 4.9]\n",
      " [1.  7.7 2.8 6.7]\n",
      " [1.  6.3 2.7 4.9]\n",
      " [1.  6.7 3.3 5.7]\n",
      " [1.  7.2 3.2 6. ]\n",
      " [1.  6.2 2.8 4.8]\n",
      " [1.  6.1 3.  4.9]\n",
      " [1.  6.4 2.8 5.6]\n",
      " [1.  7.2 3.  5.8]\n",
      " [1.  7.4 2.8 6.1]\n",
      " [1.  7.9 3.8 6.4]\n",
      " [1.  6.4 2.8 5.6]\n",
      " [1.  6.3 2.8 5.1]\n",
      " [1.  6.1 2.6 5.6]\n",
      " [1.  7.7 3.  6.1]\n",
      " [1.  6.3 3.4 5.6]\n",
      " [1.  6.4 3.1 5.5]\n",
      " [1.  6.  3.  4.8]\n",
      " [1.  6.9 3.1 5.4]\n",
      " [1.  6.7 3.1 5.6]\n",
      " [1.  6.9 3.1 5.1]\n",
      " [1.  5.8 2.7 5.1]\n",
      " [1.  6.8 3.2 5.9]\n",
      " [1.  6.7 3.3 5.7]\n",
      " [1.  6.7 3.  5.2]\n",
      " [1.  6.3 2.5 5. ]\n",
      " [1.  6.5 3.  5.2]\n",
      " [1.  6.2 3.4 5.4]\n",
      " [1.  5.9 3.  5.1]]\n"
     ]
    }
   ],
   "source": [
    "print(X)"
   ]
  },
  {
   "cell_type": "code",
   "execution_count": 35,
   "metadata": {},
   "outputs": [
    {
     "name": "stdout",
     "output_type": "stream",
     "text": [
      "[[0. 0. 0. 0.]]\n"
     ]
    }
   ],
   "source": [
    "print(W)"
   ]
  },
  {
   "cell_type": "code",
   "execution_count": 57,
   "metadata": {},
   "outputs": [],
   "source": [
    "alpha = 0.01\n",
    "iterations = 1000"
   ]
  },
  {
   "cell_type": "code",
   "execution_count": 58,
   "metadata": {},
   "outputs": [],
   "source": [
    "def Cost_Func(X,Y,W):\n",
    "    MSE = np.power(((X @ W.T)-Y),2)\n",
    "    return np.sum(MSE)/(2 * len(X))"
   ]
  },
  {
   "cell_type": "code",
   "execution_count": 59,
   "metadata": {},
   "outputs": [],
   "source": [
    "def gradientDescent(X,Y,W,iterations,alpha):\n",
    "    cost = np.zeros(iterations)\n",
    "    for i in range(iterations):\n",
    "        W = W - (alpha/len(X)) * np.sum(X * (X @ W.T - Y), axis=0)\n",
    "        cost[i] = Cost_Func(X, Y, W)\n",
    "    \n",
    "    return W,cost"
   ]
  },
  {
   "cell_type": "code",
   "execution_count": 61,
   "metadata": {},
   "outputs": [
    {
     "name": "stdout",
     "output_type": "stream",
     "text": [
      "[[ 0.08894048  0.22467007  0.69913507 -0.12796268]]\n",
      "0.00492296904122135\n"
     ]
    }
   ],
   "source": [
    "Weights,Cost = gradientDescent(X,Y,W,iterations,alpha)\n",
    "print(Weights)\n",
    "min_cost = Cost_Func(X,Y,Weights)\n",
    "print(min_cost) "
   ]
  }
 ],
 "metadata": {
  "kernelspec": {
   "display_name": "Python 3",
   "language": "python",
   "name": "python3"
  },
  "language_info": {
   "codemirror_mode": {
    "name": "ipython",
    "version": 3
   },
   "file_extension": ".py",
   "mimetype": "text/x-python",
   "name": "python",
   "nbconvert_exporter": "python",
   "pygments_lexer": "ipython3",
   "version": "3.6.6"
  }
 },
 "nbformat": 4,
 "nbformat_minor": 2
}
